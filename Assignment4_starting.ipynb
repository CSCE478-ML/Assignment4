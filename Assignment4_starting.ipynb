{
 "cells": [
  {
   "cell_type": "code",
   "execution_count": 1,
   "metadata": {},
   "outputs": [],
   "source": [
    "import numpy as np\n",
    "import pandas as pd\n",
    "from sklearn.datasets import load_iris"
   ]
  },
  {
   "cell_type": "code",
   "execution_count": 2,
   "metadata": {},
   "outputs": [],
   "source": [
    "# Part A ImplementaLinear_SVCmodel class\n",
    "def Partition(X,y,t):\n",
    "    train_size = int((1-t) * X.shape[0])   \n",
    "    return X[:train_size],X[train_size:],y[:train_size],y[train_size:]\n",
    "\n",
    "def adaptive_learning(t_0 = 1, t_1 = 1, itera = 0):\n",
    "    learning_rate = t_0 / (t_1 + itera)\n",
    "    return learning_rate\n",
    "\n",
    "class Linear_SVC:\n",
    "    def __init__(self, C = 1, max_iter = 100, tol = None, learning_rate = \"constant\", learning_rate_init = 0.001, \n",
    "                 t_0 = 1, t_1 = 1000, early_stopping = False, validation_fraction = 0.1,**kwargs):\n",
    "        self.C = C\n",
    "        self.max_iter = max_iter\n",
    "        self.tol = tol\n",
    "        if learning_rate == \"constant\":\n",
    "            self.learning_rate_init = learning_rate_init\n",
    "            print(\"Constant:\", self.learning_rate_init)\n",
    "        elif learning_rate == \"adaptive\":\n",
    "            self.learning_rate_init = adaptive_learning(t_0, t_1)\n",
    "            print(\"Adaptive:\", self.learning_rate_init)\n",
    "        else:\n",
    "            print(f'Warning! Can not recognize the technique to set the learning rate with \"{learning_rate}\".')\n",
    "        self.early_stopping = early_stopping\n",
    "        self.validation_fraction = validation_fraction\n",
    "    \n",
    "    def fit(self, X, Y):\n",
    "        iter_counter = 0\n",
    "        m,n = X.shape\n",
    "        self.weight = np.zeros([n,1])\n",
    "        b = 0\n",
    "        score_loss = []\n",
    "        val_loss = []\n",
    "        self.validation_score = 1e5\n",
    "        if self.early_stopping:\n",
    "            X, X_valid, Y, Y_valid = Partition(X, Y, self.validation_fraction)\n",
    "       \n",
    "        while iter_counter <= max_iter:\n",
    "            iter_counter += 1\n",
    "            weight = self.weight\n",
    "            error = self.error        \n",
    "            \n",
    "            # Hinge loss #1 term\n",
    "            loss_1 = (weight.T @ weight) / 2\n",
    "                        \n",
    "            # Hinge loss #2 term            \n",
    "            cal_loss2 = 1 - Y * ((X @ weight) + b)\n",
    "            \n",
    "            loss_2_0 = np.zeros([cal_loss2.shape[0],1])\n",
    "            loss2 = np.hstack((cal_loss2,loss_2_0))\n",
    "            \n",
    "            loss_2 = np.amax(loss, axis = 1).sum() * self.C\n",
    "            \n",
    "            # final hinge loss\n",
    "            Hloss = loss_1 + loss_2\n",
    "            \n",
    "        "
   ]
  },
  {
   "cell_type": "code",
   "execution_count": 3,
   "metadata": {},
   "outputs": [],
   "source": [
    "        \n",
    "# a = Linear_SVC(C = 1, max_iter = 100, tol = None, learning_rate = \"constant\", learning_rate_init = 0.001, \n",
    "#                 t_0 = 1, t_1 = 1000, early_stopping = True, validation_fraction = 0.1)   \n",
    "\n",
    "# a.fit(X, y)"
   ]
  },
  {
   "cell_type": "code",
   "execution_count": 28,
   "metadata": {},
   "outputs": [],
   "source": [
    "iris = load_iris()\n",
    "# iris"
   ]
  },
  {
   "cell_type": "code",
   "execution_count": 29,
   "metadata": {},
   "outputs": [
    {
     "data": {
      "text/html": [
       "<div>\n",
       "<style scoped>\n",
       "    .dataframe tbody tr th:only-of-type {\n",
       "        vertical-align: middle;\n",
       "    }\n",
       "\n",
       "    .dataframe tbody tr th {\n",
       "        vertical-align: top;\n",
       "    }\n",
       "\n",
       "    .dataframe thead th {\n",
       "        text-align: right;\n",
       "    }\n",
       "</style>\n",
       "<table border=\"1\" class=\"dataframe\">\n",
       "  <thead>\n",
       "    <tr style=\"text-align: right;\">\n",
       "      <th></th>\n",
       "      <th>sepal length (cm)</th>\n",
       "      <th>sepal width (cm)</th>\n",
       "      <th>petal length (cm)</th>\n",
       "      <th>petal width (cm)</th>\n",
       "      <th>target</th>\n",
       "    </tr>\n",
       "  </thead>\n",
       "  <tbody>\n",
       "    <tr>\n",
       "      <th>0</th>\n",
       "      <td>5.1</td>\n",
       "      <td>3.5</td>\n",
       "      <td>1.4</td>\n",
       "      <td>0.2</td>\n",
       "      <td>0</td>\n",
       "    </tr>\n",
       "    <tr>\n",
       "      <th>1</th>\n",
       "      <td>4.9</td>\n",
       "      <td>3.0</td>\n",
       "      <td>1.4</td>\n",
       "      <td>0.2</td>\n",
       "      <td>0</td>\n",
       "    </tr>\n",
       "    <tr>\n",
       "      <th>2</th>\n",
       "      <td>4.7</td>\n",
       "      <td>3.2</td>\n",
       "      <td>1.3</td>\n",
       "      <td>0.2</td>\n",
       "      <td>0</td>\n",
       "    </tr>\n",
       "    <tr>\n",
       "      <th>3</th>\n",
       "      <td>4.6</td>\n",
       "      <td>3.1</td>\n",
       "      <td>1.5</td>\n",
       "      <td>0.2</td>\n",
       "      <td>0</td>\n",
       "    </tr>\n",
       "    <tr>\n",
       "      <th>4</th>\n",
       "      <td>5.0</td>\n",
       "      <td>3.6</td>\n",
       "      <td>1.4</td>\n",
       "      <td>0.2</td>\n",
       "      <td>0</td>\n",
       "    </tr>\n",
       "  </tbody>\n",
       "</table>\n",
       "</div>"
      ],
      "text/plain": [
       "   sepal length (cm)  sepal width (cm)  petal length (cm)  petal width (cm)  \\\n",
       "0                5.1               3.5                1.4               0.2   \n",
       "1                4.9               3.0                1.4               0.2   \n",
       "2                4.7               3.2                1.3               0.2   \n",
       "3                4.6               3.1                1.5               0.2   \n",
       "4                5.0               3.6                1.4               0.2   \n",
       "\n",
       "   target  \n",
       "0       0  \n",
       "1       0  \n",
       "2       0  \n",
       "3       0  \n",
       "4       0  "
      ]
     },
     "execution_count": 29,
     "metadata": {},
     "output_type": "execute_result"
    }
   ],
   "source": [
    "df = pd.DataFrame(iris.data, columns=iris.feature_names)\n",
    "df['target'] = pd.Series(iris.target)\n",
    "df.head()"
   ]
  },
  {
   "cell_type": "code",
   "execution_count": 35,
   "metadata": {},
   "outputs": [],
   "source": [
    "# 'target_names': array(['setosa', 'versicolor', 'virginica'], dtype='<U10')\n",
    "# Recode the binary target such that Iris-Virginica samples are 1, and other samples are 0\n",
    "df[\"y\"] = df[\"target\"].apply(lambda x: 1 if (x == 2) else 0)\n",
    "y = df[[\"y\"]]\n",
    "# y.head()\n",
    "\n",
    "# Create the data matrix X by using two features: petal length and petal width\n",
    "X = df[[\"petal length (cm)\", \"petal width (cm)\"]]\n",
    "# X.head()"
   ]
  },
  {
   "cell_type": "code",
   "execution_count": 36,
   "metadata": {},
   "outputs": [],
   "source": [
    "X_train, X_test, y_train, y_test = Partition(X,y,0.2)"
   ]
  },
  {
   "cell_type": "code",
   "execution_count": 40,
   "metadata": {},
   "outputs": [
    {
     "name": "stdout",
     "output_type": "stream",
     "text": [
      "0.7699537774248509\n"
     ]
    },
    {
     "data": {
      "text/plain": [
       "array([[0.07839567],\n",
       "       [0.08792129]])"
      ]
     },
     "execution_count": 40,
     "metadata": {},
     "output_type": "execute_result"
    }
   ],
   "source": [
    "m,n = X_train.shape\n",
    "\n",
    "import random\n",
    "b = random.random()\n",
    "print(b)\n",
    "\n",
    "# weight = np.zeros([n,1])\n",
    "weight = np.random.rand(n,1)\n",
    "weight"
   ]
  },
  {
   "cell_type": "code",
   "execution_count": 38,
   "metadata": {},
   "outputs": [
    {
     "name": "stdout",
     "output_type": "stream",
     "text": [
      "(120, 1)\n",
      "(120, 2)\n"
     ]
    }
   ],
   "source": [
    "print(np.array(y_train).shape)\n",
    "print(np.array(X_train).shape)"
   ]
  },
  {
   "cell_type": "code",
   "execution_count": 43,
   "metadata": {},
   "outputs": [
    {
     "name": "stdout",
     "output_type": "stream",
     "text": [
      "loss_1 [[0.00693802]]\n",
      "loss_2 100.0\n",
      "[[100.00693802]]\n"
     ]
    }
   ],
   "source": [
    "X = np.array(X_train)\n",
    "Y = np.array(y_train)\n",
    "\n",
    "C = 1\n",
    "\n",
    "# Hinge loss #1 term\n",
    "loss_1 = (weight.T @ weight) / 2\n",
    "print(\"loss_1\", loss_1)\n",
    "\n",
    "# Hinge loss #2 term            \n",
    "cal_loss2 = 1 - Y * ((X @ weight) + b)\n",
    "\n",
    "loss_2_0 = np.zeros([cal_loss2.shape[0],1])\n",
    "loss2 = np.hstack((cal_loss2,loss_2_0))\n",
    "            \n",
    "loss_2 = np.amax(loss2, axis = 1).sum() * C\n",
    "print(\"loss_2\", loss_2)\n",
    "\n",
    "# final hinge loss\n",
    "Hloss = loss_1 + loss_2\n",
    "\n",
    "print(Hloss)"
   ]
  }
 ],
 "metadata": {
  "kernelspec": {
   "display_name": "Python 3",
   "language": "python",
   "name": "python3"
  },
  "language_info": {
   "codemirror_mode": {
    "name": "ipython",
    "version": 3
   },
   "file_extension": ".py",
   "mimetype": "text/x-python",
   "name": "python",
   "nbconvert_exporter": "python",
   "pygments_lexer": "ipython3",
   "version": "3.7.6"
  }
 },
 "nbformat": 4,
 "nbformat_minor": 4
}
