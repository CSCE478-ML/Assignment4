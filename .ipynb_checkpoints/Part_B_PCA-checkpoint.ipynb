{
 "cells": [
  {
   "cell_type": "markdown",
   "metadata": {},
   "source": [
    "Part B: Principle Component Analysis\n",
    "You will perform dimensionality reduction on a grayscale image (posted on\n",
    "Canvas) using PCA. The PCA will be implemented using the eigendecomposition\n",
    "technique. More specifically, you will find the top k eigenvectors (i.e., principle\n",
    "components) of a pixel matrix (a gray scale image). Then, using the top k\n",
    "eigenvector matrix, you will project the pixel matrix on its principle components.\n",
    "This will reduce the dimension of the pixel matrix without losing much variance.\n",
    "Note: See the following notebook for understanding the manual implementation\n",
    "of the eigendecomposition based PCA using python.\n",
    "https://github.com/rhasanbd/Dimensionality-Reduction-Get-More-From-Less-And-See-theUnseen/blob/master/Dimensionality%20Reduction-PCA-Eigendecomposition-Introduction.ipynb\n",
    "6\n",
    "9. Using the matplotlib.pyplot “imread” function read the image as a 2D matrix.\n",
    "Denote it with “X”. Show the image using matplotlib.pyplot imshow function.\n",
    "If the image is RGB, then you need to convert it into a grayscale image, as\n",
    "follows (use matplotlib.pyplot “gray” function).\n",
    "X = imread(\"image_path\")[:,:,0]\n",
    "gray()\n",
    "[3 pts]\n",
    "10. Implement the steps of eigendecomposition based PCA on X: (a) mean center the\n",
    "data matrix X, (b) compute the covariance matrix from it, (c) find eigenvalues\n",
    "and eigenvectors of the covariance matrix (you may use the numpy.linalg.eig\n",
    "function). [7 pts]\n",
    "11. Then, find the top k eigenvectors (sort eigenvalue-eigenvector pairs from high to\n",
    "low, and get the top k eigenvectors), and create an eigenvector matrix using top k\n",
    "eigenvectors (each eigenvector should be a column vector in the matrix, so there\n",
    "should be k columns). [10 pts]\n",
    "12. Finally project the mean centered data on the k top eigenvectors (it should be a\n",
    "dot product between mean centered X and the top k eigenvector matrix).\n",
    " [5 pts]\n",
    "13. Reconstruct the data matrix by taking dot product between the projected data\n",
    "(from last step) and the transpose of the top k eigenvector matrix.\n",
    " [5 pts]\n",
    "14. Compute the reconstruction error between the mean centered data matrix X and\n",
    "reconstructed data matrix (you may use the sklearn.metrics.mean_squared_error\n",
    "function).\n",
    "[5 pts]\n",
    "15. Perform steps 11 – 14 for the following values of k: 10, 30, 50, 100, 500. For\n",
    "each k, show the reconstructed image (use the matplotlib.pyplot imshow function\n",
    "with the reconstructed data matrix for each k). With each reconstructed image\n",
    "print the value of k and the reconstruction error.\n"
   ]
  },
  {
   "cell_type": "code",
   "execution_count": null,
   "metadata": {},
   "outputs": [],
   "source": [
    "import numpy as np\n",
    "from numpy.linalg import eig\n",
    "import matplotlib.pyplot as plt\n",
    "\n",
    "from sklearn.metrics import mean_squared_error\n",
    "from sklearn.decomposition import PCA\n"
   ]
  },
  {
   "cell_type": "code",
   "execution_count": null,
   "metadata": {},
   "outputs": [],
   "source": [
    "X = plt.imread(\"Hinton.jpg\")[:,:,0]\n",
    "plt.gray()"
   ]
  },
  {
   "cell_type": "code",
   "execution_count": null,
   "metadata": {},
   "outputs": [],
   "source": [
    "X.shape"
   ]
  },
  {
   "cell_type": "code",
   "execution_count": null,
   "metadata": {},
   "outputs": [],
   "source": [
    "plt.imshow(X);"
   ]
  },
  {
   "cell_type": "code",
   "execution_count": null,
   "metadata": {},
   "outputs": [],
   "source": [
    "X_mean = np.mean(X,axis=0)"
   ]
  },
  {
   "cell_type": "code",
   "execution_count": null,
   "metadata": {},
   "outputs": [],
   "source": [
    "X_centered = X - X_mean"
   ]
  },
  {
   "cell_type": "code",
   "execution_count": null,
   "metadata": {},
   "outputs": [],
   "source": [
    "#Sample Covariance: Unbiased Estimator\n",
    "cov_X =  X_centered.T.dot(X_centered)/(X.shape[0]-1)"
   ]
  },
  {
   "cell_type": "code",
   "execution_count": null,
   "metadata": {},
   "outputs": [],
   "source": [
    "cov_X.shape"
   ]
  },
  {
   "cell_type": "code",
   "execution_count": null,
   "metadata": {},
   "outputs": [],
   "source": [
    "eigenvalues, eigenvectors = eig(cov_X)\n",
    "eigenvalues = np.real(eigenvalues)\n",
    "eigenvectors = np.real(eigenvectors)"
   ]
  },
  {
   "cell_type": "code",
   "execution_count": null,
   "metadata": {},
   "outputs": [],
   "source": [
    "eigenvalues.shape"
   ]
  },
  {
   "cell_type": "code",
   "execution_count": null,
   "metadata": {},
   "outputs": [],
   "source": [
    "eigenvectors.shape"
   ]
  },
  {
   "cell_type": "code",
   "execution_count": null,
   "metadata": {},
   "outputs": [],
   "source": [
    "ev2 = eigenvalues.copy()"
   ]
  },
  {
   "cell_type": "code",
   "execution_count": null,
   "metadata": {},
   "outputs": [],
   "source": [
    "sortIndex = np.argsort(-ev2)"
   ]
  },
  {
   "cell_type": "code",
   "execution_count": null,
   "metadata": {},
   "outputs": [],
   "source": [
    "def getKeigVec(npArr,sortIndex):\n",
    "    return npArr[:,sortIndex]\n",
    "    "
   ]
  },
  {
   "cell_type": "code",
   "execution_count": null,
   "metadata": {},
   "outputs": [],
   "source": [
    "sortIndex.shape"
   ]
  },
  {
   "cell_type": "code",
   "execution_count": null,
   "metadata": {},
   "outputs": [],
   "source": [
    "for k in [10, 30, 50, 100, 500]:\n",
    "    kComp = getKeigVec(eigenvectors,sortIndex[:k])\n",
    "    X_projected_k = X_centered.dot(kComp)\n",
    "    X_reconstructed_k = X_projected_k.dot(kComp.T)\n",
    "    plt.figure()\n",
    "    plt.imshow(X_reconstructed_k)\n",
    "    plt.show()\n",
    "    reconstruction_error = mean_squared_error(X_centered, X_reconstructed_k)\n",
    "    print(f\"\\nOverall Reconstruction Error ( k = {k}): { reconstruction_error}\")\n",
    "    print('='*50)\n",
    "    \n",
    "    "
   ]
  }
 ],
 "metadata": {
  "kernelspec": {
   "display_name": "Python 3",
   "language": "python",
   "name": "python3"
  },
  "language_info": {
   "codemirror_mode": {
    "name": "ipython",
    "version": 3
   },
   "file_extension": ".py",
   "mimetype": "text/x-python",
   "name": "python",
   "nbconvert_exporter": "python",
   "pygments_lexer": "ipython3",
   "version": "3.8.5"
  }
 },
 "nbformat": 4,
 "nbformat_minor": 4
}
