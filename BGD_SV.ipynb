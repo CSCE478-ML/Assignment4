{
 "cells": [
  {
   "cell_type": "code",
   "execution_count": 565,
   "metadata": {},
   "outputs": [],
   "source": [
    "import numpy as np \n",
    "import pandas as pd\n",
    "%matplotlib inline\n",
    "import matplotlib.pyplot as plt\n",
    "\n",
    "from sklearn.datasets import load_iris\n",
    "from sklearn.svm import LinearSVC\n",
    "from sklearn.preprocessing import StandardScaler\n",
    "from sklearn.pipeline import Pipeline\n",
    "from sklearn.metrics import accuracy_score,confusion_matrix, precision_score, recall_score, f1_score, roc_curve, precision_recall_curve, classification_report"
   ]
  },
  {
   "cell_type": "code",
   "execution_count": 566,
   "metadata": {},
   "outputs": [],
   "source": [
    "iris = load_iris()\n",
    "X = iris[\"data\"][:, (2, 3)]  \n",
    "y = (iris[\"target\"] == 2).astype(np.int)[:,None]\n"
   ]
  },
  {
   "cell_type": "code",
   "execution_count": 567,
   "metadata": {},
   "outputs": [],
   "source": [
    "Z = np.hstack([X,y])\n",
    "np.random.shuffle(Z)\n",
    "X= Z[:,0:2]\n",
    "y = Z[:,2]"
   ]
  },
  {
   "cell_type": "code",
   "execution_count": 568,
   "metadata": {},
   "outputs": [],
   "source": [
    "# Standarize the data\n",
    "X = (X - np.mean(X))/np.std(X)\n",
    "\n",
    "def split_trainTest(X,y,t):\n",
    "    train_size = int((1-t) * X.shape[0])   \n",
    "    return X[:train_size],X[train_size:],y[:train_size],y[train_size:]\n",
    "\n",
    "X_train, X_test, y_train, y_test = split_trainTest(X,y,t=0.2)"
   ]
  },
  {
   "cell_type": "code",
   "execution_count": 569,
   "metadata": {},
   "outputs": [],
   "source": [
    "class Linear_SVC:\n",
    "    def __init__(self, C=1, max_iter=100, tol=None, learning_rate='constant',learning_rate_init=0.001, t_0=1, t_1=1000, early_stopping=False, validation_fraction=0.1,**kwargs):\n",
    "        self.C = C\n",
    "        self.w = np.random.rand(2,1)\n",
    "        self.b = 0\n",
    "        #self.w = np.reshape(np.array([[1.60381071, 3.05536121]]),(2,1))\n",
    "        #self.b = -1.13503736      \n",
    "        self.epochs = max_iter\n",
    "        self.lr_sc = learning_rate\n",
    "        self.learning_rate = learning_rate_init\n",
    "        self.tol = tol \n",
    "        self.t_0 = t_0\n",
    "        self.t_1 = t_1\n",
    "        self.loss = 1e5\n",
    "        self.intercept_ = None\n",
    "        self.coef_ = None\n",
    "        self.support_vectors_ = None\n",
    "    \n",
    "    def fit(self,X,y):\n",
    "        ##ADd early_stopping like Assignment 3\n",
    "        epch_counter = 0            \n",
    "        \n",
    "        while epch_counter < self.epochs:\n",
    "            loss = self.loss\n",
    "            epch_counter += 1\n",
    "            #print(f'Epoch: {epch_counter}')\n",
    "            #pdb.set_trace()\n",
    "            w = self.w\n",
    "            b = self.b\n",
    "            if(self.lr_sc == \"adaptive\"):\n",
    "                self.learning_rate = self.t_0 /(epch_counter + self.t_1)    \n",
    "            \n",
    "            t = (2*y-1)[:,None]\n",
    "            \n",
    "            #idx_sv = ((t*X)@w < 1).ravel()    \n",
    "            idx_sv = ((t*(X@w+b)) < 1).ravel()\n",
    "            X_sv = X[idx_sv]\n",
    "            t_sv = t[idx_sv]\n",
    "            \n",
    "            self.loss = ((0.5 * (w.T @ w))+ (self.C*(np.sum(1- X_sv@w) - b* np.sum(t_sv)))).item()\n",
    "            #self.loss = ((0.5 * (w.T @ w))+ (self.C*np.sum((np.maximum(0,1-t*(X@w+b)))))).item()\n",
    "            print(self.loss)\n",
    "            dw = w - (self.C * np.sum(X_sv))\n",
    "            db = -self.C * np.sum(t_sv)\n",
    "            \n",
    "            self.w = w - self.learning_rate * dw\n",
    "            self.b = b - self.learning_rate * db\n",
    "            self.support_vectors_ = X_sv\n",
    "            ## Assing intercept,Coef and Support vec\n",
    "            \n",
    "            if(self.tol != None and np.abs(self.loss - loss) < tol):         \n",
    "                break\n",
    "        self.coef_ = np.array([w])\n",
    "        self.intercept_ = np.array([b])\n",
    "    def predict(self,X):\n",
    "        return ((X@self.coef_[0] + self.intercept_[0]) >= 1).astype(np.int)\n",
    "        \n",
    "        "
   ]
  },
  {
   "cell_type": "code",
   "execution_count": null,
   "metadata": {},
   "outputs": [],
   "source": []
  },
  {
   "cell_type": "code",
   "execution_count": null,
   "metadata": {},
   "outputs": [],
   "source": []
  },
  {
   "cell_type": "code",
   "execution_count": null,
   "metadata": {},
   "outputs": [],
   "source": []
  },
  {
   "cell_type": "code",
   "execution_count": 570,
   "metadata": {},
   "outputs": [],
   "source": [
    "model = Linear_SVC(max_iter = 35,C=10,learning_rate_init=0.001)"
   ]
  },
  {
   "cell_type": "code",
   "execution_count": 571,
   "metadata": {},
   "outputs": [
    {
     "name": "stdout",
     "output_type": "stream",
     "text": [
      "1305.9666952245225\n",
      "1158.6763025601451\n",
      "742.9615815262522\n",
      "260.7989945115656\n",
      "-21.431882719182727\n",
      "-125.13152359879452\n",
      "-225.61670570933066\n",
      "-300.9001656757679\n",
      "-359.0056982830077\n",
      "-389.6861816830796\n",
      "-412.52268341278875\n",
      "-457.74431861019866\n",
      "-442.0782803023131\n",
      "-476.8642109290903\n",
      "-511.57485087243555\n",
      "-546.2103763820331\n",
      "-551.884591584852\n",
      "-551.6460701151032\n",
      "-578.4459863318881\n",
      "-605.1945248054446\n",
      "-631.8918060345925\n",
      "-581.3185540342847\n",
      "-602.065703570894\n",
      "-622.7687742950536\n",
      "-643.42786971917\n",
      "-663.9809094734593\n",
      "-684.1630822244117\n",
      "-704.2138062076195\n",
      "-724.522210547733\n",
      "-639.4466013517557\n",
      "-654.1399427135216\n",
      "-668.7318010258485\n",
      "-683.2980993717512\n",
      "-697.8388980300446\n",
      "-712.3542571498608\n"
     ]
    }
   ],
   "source": [
    "import pdb\n",
    "\n",
    "model.fit(X_train,y_train)"
   ]
  },
  {
   "cell_type": "code",
   "execution_count": 572,
   "metadata": {},
   "outputs": [
    {
     "name": "stdout",
     "output_type": "stream",
     "text": [
      "[[[5.77998851]\n",
      "  [5.8870141 ]]] [-4.04]\n"
     ]
    }
   ],
   "source": [
    "print(model.coef_,model.intercept_)"
   ]
  },
  {
   "cell_type": "code",
   "execution_count": 573,
   "metadata": {},
   "outputs": [
    {
     "data": {
      "text/plain": [
       "array([[ 1.08463802, -0.52514796],\n",
       "       [ 1.40659522, -0.52514796],\n",
       "       [ 1.40659522, -0.47148843],\n",
       "       [ 1.13829755, -0.57880749],\n",
       "       [ 1.35293568, -0.41782889],\n",
       "       [ 1.08463802, -0.41782889],\n",
       "       [ 1.24561662, -0.36416936],\n",
       "       [ 1.19195709, -0.57880749],\n",
       "       [ 1.19195709, -0.47148843],\n",
       "       [ 1.08463802, -0.52514796],\n",
       "       [ 1.08463802, -0.52514796],\n",
       "       [ 1.08463802, -0.47148843],\n",
       "       [ 1.08463802, -0.52514796],\n",
       "       [ 1.35293568, -0.52514796]])"
      ]
     },
     "execution_count": 573,
     "metadata": {},
     "output_type": "execute_result"
    }
   ],
   "source": [
    "model.support_vectors_"
   ]
  },
  {
   "cell_type": "code",
   "execution_count": 574,
   "metadata": {},
   "outputs": [],
   "source": [
    "def decision_boundary_support_vectors(svm_clf, X):\n",
    "    \n",
    "    xmin, xmax = X.min() - 1, X.max() + 1\n",
    "    w = svm_clf.coef_[0]\n",
    "    b = svm_clf.intercept_[0]\n",
    "    #w = np.array([[1.60381071, 3.05536121]])[0]\n",
    "    #b = np.array([-1.13503736])[0]\n",
    "    \n",
    "\n",
    "    # At the decision boundary, w1*x1 + w2*x2 + b = 0\n",
    "    # => x2 = -(b + w1* x1)/w1\n",
    "    x1 = np.linspace(xmin, xmax, 100)    \n",
    "    decision_boundary = -(b + w[0]*x1)/w[1]\n",
    "    shifting_factor_for_margin = 1/w[1]\n",
    "    upper_margin = decision_boundary + shifting_factor_for_margin\n",
    "    lower_margin = decision_boundary - shifting_factor_for_margin\n",
    "\n",
    "    svs = svm_clf.support_vectors_\n",
    "    plt.scatter(svs[:, 0], svs[:, 1], s=200, facecolors='g', label=\"Support Vectors\")\n",
    "    plt.plot(x1, decision_boundary, \"k-\", linewidth=2)\n",
    "    plt.plot(x1, upper_margin, \"k--\", linewidth=2)\n",
    "    plt.plot(x1, lower_margin, \"k--\", linewidth=2)"
   ]
  },
  {
   "cell_type": "code",
   "execution_count": 575,
   "metadata": {},
   "outputs": [
    {
     "data": {
      "image/png": "[encoded data removed]",
      "text/plain": [
       "<Figure size 1152x576 with 1 Axes>"
      ]
     },
     "metadata": {
      "needs_background": "light"
     },
     "output_type": "display_data"
    }
   ],
   "source": [
    "plt.figure(figsize=(16,8))\n",
    "plt.plot(X_train[:, 0][y_train==1], X_train[:, 1][y_train==1], \"bo\", label=\"Class 0\")\n",
    "plt.plot(X_train[:, 0][y_train==0], X_train[:, 1][y_train==0], \"ro\", label=\"Class 1\")\n",
    "\n",
    "decision_boundary_support_vectors(model, X_train)\n",
    "\n",
    "plt.xlabel(\"x1\", fontsize=14)\n",
    "plt.ylabel(\"x2\", fontsize=14)\n",
    "plt.legend(loc=\"best\", fontsize=14)\n",
    "plt.title(\"BGD_linearSVM\", fontsize=16)\n",
    "#plt.axis([-4, 4, -4, 4])\n",
    "plt.show()"
   ]
  },
  {
   "cell_type": "code",
   "execution_count": 577,
   "metadata": {},
   "outputs": [
    {
     "data": {
      "text/plain": [
       "array([0., 0., 0., 0., 1., 1., 0., 0., 1., 1., 0., 1., 0., 0., 0., 0., 1.,\n",
       "       0., 0., 1., 0., 0., 0., 0., 0., 1., 0., 1., 0., 0.])"
      ]
     },
     "execution_count": 577,
     "metadata": {},
     "output_type": "execute_result"
    }
   ],
   "source": [
    "y_test"
   ]
  },
  {
   "cell_type": "code",
   "execution_count": 580,
   "metadata": {},
   "outputs": [
    {
     "data": {
      "text/plain": [
       "array([0, 0, 0, 0, 1, 1, 0, 0, 1, 1, 0, 1, 0, 0, 0, 0, 1, 0, 0, 1, 0, 0,\n",
       "       0, 0, 0, 1, 0, 1, 0, 0])"
      ]
     },
     "execution_count": 580,
     "metadata": {},
     "output_type": "execute_result"
    }
   ],
   "source": [
    "y_test_predicted.squeeze()"
   ]
  },
  {
   "cell_type": "code",
   "execution_count": 576,
   "metadata": {},
   "outputs": [
    {
     "name": "stdout",
     "output_type": "stream",
     "text": [
      "Train Accuracy:  0.95\n",
      "Test Accuracy:  1.0\n",
      "\n",
      "Test Confusion Matrix:\n",
      "[[21  0]\n",
      " [ 0  9]]\n",
      "\n",
      "Test Precision = 1.000000\n",
      "Test Recall = 1.000000\n",
      "Test F1 Score = 1.000000\n",
      "\n",
      "Classification Report:\n"
     ]
    }
   ],
   "source": [
    "pred = model.predict(X_train)\n",
    "print(\"Train Accuracy: \", accuracy_score(pred, y_train))\n",
    "\n",
    "\n",
    "y_test_predicted = model.predict(X_test)\n",
    "print(\"Test Accuracy: \", accuracy_score(y_test_predicted, y_test))\n",
    "\n",
    "\n",
    "print(\"\\nTest Confusion Matrix:\")\n",
    "print(confusion_matrix(y_test, y_test_predicted))\n",
    "\n",
    "\n",
    "precision_test = precision_score(y_test, y_test_predicted) \n",
    "print(\"\\nTest Precision = %f\" % precision_test)\n",
    "\n",
    "recall_test = recall_score(y_test, y_test_predicted)\n",
    "print(\"Test Recall = %f\" % recall_test)\n",
    "\n",
    "\n",
    "f1_test = f1_score(y_test, y_test_predicted)\n",
    "print(\"Test F1 Score = %f\" % f1_test)\n",
    "\n",
    "\n",
    "print(\"\\nClassification Report:\")\n",
    "#print(classification_report(y_test, y_test_predicted))"
   ]
  },
  {
   "cell_type": "code",
   "execution_count": null,
   "metadata": {},
   "outputs": [],
   "source": []
  },
  {
   "cell_type": "code",
   "execution_count": null,
   "metadata": {},
   "outputs": [],
   "source": []
  }
 ],
 "metadata": {
  "kernelspec": {
   "display_name": "Python 3",
   "language": "python",
   "name": "python3"
  },
  "language_info": {
   "codemirror_mode": {
    "name": "ipython",
    "version": 3
   },
   "file_extension": ".py",
   "mimetype": "text/x-python",
   "name": "python",
   "nbconvert_exporter": "python",
   "pygments_lexer": "ipython3",
   "version": "3.7.7"
  }
 },
 "nbformat": 4,
 "nbformat_minor": 4
}
